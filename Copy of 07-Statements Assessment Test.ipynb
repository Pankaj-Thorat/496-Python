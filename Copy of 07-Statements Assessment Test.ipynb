{
 "cells": [
  {
   "cell_type": "markdown",
   "metadata": {
    "collapsed": true,
    "id": "tnaZbfTopIhk"
   },
   "source": [
    "# Statements Assessment Test\n",
    "Let's test your knowledge!"
   ]
  },
  {
   "cell_type": "markdown",
   "metadata": {
    "id": "kpRJpLfLpIhm"
   },
   "source": [
    "_____\n",
    "**Use <code>for</code>, .split(), and <code>if</code> to create a Statement that will print out words that start with 's':**"
   ]
  },
  {
   "cell_type": "code",
   "execution_count": 29,
   "metadata": {
    "id": "O6sMClQHpIhn"
   },
   "outputs": [],
   "source": [
    "st = 'Print only the words that start with s in this sentence'"
   ]
  },
  {
   "cell_type": "code",
   "execution_count": 30,
   "metadata": {
    "id": "78ZgBCWGpIho"
   },
   "outputs": [
    {
     "name": "stdout",
     "output_type": "stream",
     "text": [
      "['Print', 'only', 'the', 'words', 'that', 'start', 'with', 's', 'in', 'this', 'sentence']\n",
      "start\n",
      "s\n",
      "sentence\n"
     ]
    }
   ],
   "source": [
    "st=st.split()\n",
    "print (st)\n",
    "for i in st:\n",
    "    if i[0]==\"s\":\n",
    "        print(i)\n"
   ]
  },
  {
   "cell_type": "markdown",
   "metadata": {
    "id": "kkMnmL28pIho"
   },
   "source": [
    "______\n",
    "**Use range() to print all the even numbers from 0 to 10.**"
   ]
  },
  {
   "cell_type": "code",
   "execution_count": 4,
   "metadata": {
    "id": "0yaBj-nKpIhp"
   },
   "outputs": [
    {
     "name": "stdout",
     "output_type": "stream",
     "text": [
      "0\n",
      "2\n",
      "4\n",
      "6\n",
      "8\n",
      "10\n"
     ]
    }
   ],
   "source": [
    "for i in range(0,11):\n",
    "    if i % 2 == 0:\n",
    "        print(i)"
   ]
  },
  {
   "cell_type": "markdown",
   "metadata": {
    "id": "Q6Lw9x_rpIhp"
   },
   "source": [
    "___\n",
    "**Use a List Comprehension to create a list of all numbers between 1 and 50 that are divisible by 3.**"
   ]
  },
  {
   "cell_type": "code",
   "execution_count": 20,
   "metadata": {
    "id": "HZzUHSDvpIhq"
   },
   "outputs": [
    {
     "name": "stdout",
     "output_type": "stream",
     "text": [
      "[3, 6, 9, 12, 15, 18, 21, 24, 27, 30, 33, 36, 39, 42, 45, 48]\n"
     ]
    }
   ],
   "source": [
    "#Code in this cell\n",
    "div_by_3=[i for i in range(1,51) if i % 3 == 0 ]\n",
    "print(div_by_3)"
   ]
  },
  {
   "cell_type": "markdown",
   "metadata": {
    "id": "0vFja95mpIhr"
   },
   "source": [
    "_____\n",
    "**Go through the string below and if the length of a word is even print \"even!\"**"
   ]
  },
  {
   "cell_type": "code",
   "execution_count": 22,
   "metadata": {
    "id": "kLUNT43KpIhs"
   },
   "outputs": [
    {
     "data": {
      "text/plain": [
       "['word', 'in', 'this', 'sentence', 'that', 'an', 'even', 'number', 'of']"
      ]
     },
     "execution_count": 22,
     "metadata": {},
     "output_type": "execute_result"
    }
   ],
   "source": [
    "st = 'Print every word in this sentence that has an even number of letters'\n",
    "st=st.split()\n",
    "[i for i in st if len(i)%2==0]"
   ]
  },
  {
   "cell_type": "code",
   "execution_count": null,
   "metadata": {
    "collapsed": true,
    "id": "kjIO_wbppIhs"
   },
   "outputs": [],
   "source": [
    "#Code in this cell"
   ]
  },
  {
   "cell_type": "markdown",
   "metadata": {
    "id": "nU5VnWczpIht"
   },
   "source": [
    "____\n",
    "**Use List Comprehension to create a list of the first letters of every word in the string below:**"
   ]
  },
  {
   "cell_type": "code",
   "execution_count": 23,
   "metadata": {
    "id": "YUbWtDaTpIht"
   },
   "outputs": [
    {
     "data": {
      "text/plain": [
       "['C', 'a', 'l', 'o', 't', 'f', 'l', 'o', 'e', 'w', 'i', 't', 's']"
      ]
     },
     "execution_count": 23,
     "metadata": {},
     "output_type": "execute_result"
    }
   ],
   "source": [
    "st = 'Create a list of the first letters of every word in this string'\n",
    "st = st.split()\n",
    "[i[0] for i in st]"
   ]
  },
  {
   "cell_type": "code",
   "execution_count": null,
   "metadata": {
    "collapsed": true,
    "id": "zypccfMWpIhu"
   },
   "outputs": [],
   "source": [
    "#Code in this cell"
   ]
  },
  {
   "cell_type": "markdown",
   "metadata": {
    "id": "Ugsc2zZkpIhu"
   },
   "source": [
    "_____\n",
    "**Below represents a list of names of people and corresponding bitcoins in their wallet**\n",
    "```\n",
    "people = [\n",
    "{'name': \"Tom\", 'coins': 10},\n",
    "{'name': \"Mark\", 'coins': 5},\n",
    "{'name': \"Pam\", 'coins': 7},\n",
    "{'name': \"Sam\", 'coins': 200},\n",
    "{'name': \"Vito\", 'coins': 4444},\n",
    "{'name': \"Sonny\", 'coins': 0},\n",
    "{'name': \"Michael\", 'coins': 232}\n",
    "]\n",
    "```\n",
    "\n",
    "Please answer below questions\n",
    "\n",
    "##### Q1. Name of the wealthiest person"
   ]
  },
  {
   "cell_type": "code",
   "execution_count": 39,
   "metadata": {
    "id": "8r12kg_6pIhv"
   },
   "outputs": [],
   "source": [
    "people = [\n",
    "{'name': \"Tom\", 'coins': 10},\n",
    "{'name': \"Mark\", 'coins': 5},\n",
    "{'name': \"Pam\", 'coins': 7},\n",
    "{'name': \"Sam\", 'coins': 200},\n",
    "{'name': \"Vito\", 'coins': 4444},\n",
    "{'name': \"Sonny\", 'coins': 0},\n",
    "{'name': \"Michael\", 'coins': 232}\n",
    "]\n",
    "\n",
    "for i in people:\n",
    "    if i[1]>"
   ]
  },
  {
   "cell_type": "markdown",
   "metadata": {
    "id": "iE18znuYpIhv"
   },
   "source": [
    "##### Q2. Total number of Bitcoins across all wallets"
   ]
  },
  {
   "cell_type": "code",
   "execution_count": 41,
   "metadata": {
    "id": "j8lse_cTpIhv"
   },
   "outputs": [
    {
     "ename": "TypeError",
     "evalue": "'dict' object is not callable",
     "output_type": "error",
     "traceback": [
      "\u001b[1;31m---------------------------------------------------------------------------\u001b[0m",
      "\u001b[1;31mTypeError\u001b[0m                                 Traceback (most recent call last)",
      "Input \u001b[1;32mIn [41]\u001b[0m, in \u001b[0;36m<cell line: 1>\u001b[1;34m()\u001b[0m\n\u001b[1;32m----> 1\u001b[0m \u001b[43mpeople\u001b[49m\u001b[43m[\u001b[49m\u001b[38;5;241;43m1\u001b[39;49m\u001b[43m]\u001b[49m\u001b[43m(\u001b[49m\u001b[38;5;124;43m\"\u001b[39;49m\u001b[38;5;124;43mcoins\u001b[39;49m\u001b[38;5;124;43m\"\u001b[39;49m\u001b[43m)\u001b[49m\n",
      "\u001b[1;31mTypeError\u001b[0m: 'dict' object is not callable"
     ]
    }
   ],
   "source": [
    "people[1](\"coins\")"
   ]
  },
  {
   "cell_type": "markdown",
   "metadata": {
    "id": "JjtJKdNxpIhv"
   },
   "source": [
    "##### Q3. Filter all the high net worth clients (who have 200 or more bitcoins)"
   ]
  },
  {
   "cell_type": "code",
   "execution_count": null,
   "metadata": {
    "id": "wE3dlq1xpIhw"
   },
   "outputs": [],
   "source": []
  },
  {
   "cell_type": "markdown",
   "metadata": {
    "id": "_B-wdf21pIhw"
   },
   "source": [
    "##### Q4. Create another dictionary where corresponding usd value is also stored (1 bitcoin = 38471 USD)\n",
    "\n",
    "Expected sample output\n",
    "```\n",
    "[ {\"name\": \"Tom\", \"coins\": 10, \"usd\": 384710}, \n",
    "  {'name': \"Mark\", 'coins': 5, \"usd\": 192355},\n",
    "  ...\n",
    "]\n",
    "```"
   ]
  },
  {
   "cell_type": "markdown",
   "metadata": {
    "id": "M6iXqrB9pIhw"
   },
   "source": [
    "### Great Job!"
   ]
  }
 ],
 "metadata": {
  "colab": {
   "name": "Copy of 07-Statements Assessment Test.ipynb",
   "provenance": [
    {
     "file_id": "18AyQzucGEzLb5ni8k5xkPMR1H83LAYoY",
     "timestamp": 1655351609619
    }
   ]
  },
  "kernelspec": {
   "display_name": "Python 3 (ipykernel)",
   "language": "python",
   "name": "python3"
  },
  "language_info": {
   "codemirror_mode": {
    "name": "ipython",
    "version": 3
   },
   "file_extension": ".py",
   "mimetype": "text/x-python",
   "name": "python",
   "nbconvert_exporter": "python",
   "pygments_lexer": "ipython3",
   "version": "3.9.12"
  }
 },
 "nbformat": 4,
 "nbformat_minor": 1
}
