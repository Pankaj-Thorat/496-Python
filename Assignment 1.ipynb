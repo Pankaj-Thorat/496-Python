{
 "cells": [
  {
   "cell_type": "markdown",
   "metadata": {},
   "source": [
    "## Strings and lists"
   ]
  },
  {
   "cell_type": "markdown",
   "metadata": {},
   "source": [
    "### Ex 1 \n",
    "\n",
    "Ask user his first name and last name separately.\n",
    "\n",
    "    Print a welcome message for him - Welcome, <firstname> <lastname>\n",
    "\n",
    "(String interpolation)"
   ]
  },
  {
   "cell_type": "code",
   "execution_count": 2,
   "metadata": {},
   "outputs": [
    {
     "name": "stdout",
     "output_type": "stream",
     "text": [
      "Enter your first name :Pankaj\n",
      "Enter your last name :Thorat\n",
      "Welcome Pankaj Thorat\n"
     ]
    }
   ],
   "source": [
    "# Your answer here\n",
    "fn = str (input(\"Enter your first name :\"))\n",
    "ln = str (input(\"Enter your last name :\"))\n",
    "print(f\"Welcome {fn} {ln}\")"
   ]
  },
  {
   "cell_type": "markdown",
   "metadata": {},
   "source": [
    "### Ex 2\n",
    "\n",
    "You are writing a program for national sales head. National sales head wants total sales by state, he will provide you state name as input.\n",
    "\n",
    "You are required to form an dynamic SQL query in Python to fetch data from sales database for the given input.\n",
    "\n",
    "Your task is to make this query dynamic (ie change the query based on user input)\n",
    "\n",
    "```SQL\n",
    "    SELECT SUM(sales) FROM sales_table where state='Maharasthra'\n",
    "```"
   ]
  },
  {
   "cell_type": "code",
   "execution_count": 4,
   "metadata": {
    "scrolled": false
   },
   "outputs": [
    {
     "name": "stdout",
     "output_type": "stream",
     "text": [
      "Please enter state name: goa\n",
      "sales of Goa is 210000\n"
     ]
    }
   ],
   "source": [
    "dct = {\"Maharashtra\":190000,\"Gujrat\":170000,\"Punjab\":160000,\"Goa\":210000}\n",
    "state = input(\"Please enter state name: \").capitalize()\n",
    "print(f'sales of {state} is',dct[f\"{state}\"])\n",
    "\n",
    "# create table sales_table(state varchar(20),sales int);\n",
    "# sql = f\"Please write approprate dynamic sql query here\"\n",
    "# print(sql)"
   ]
  },
  {
   "cell_type": "markdown",
   "metadata": {},
   "source": [
    "### Ex 3\n",
    "\n",
    "Given the paragraph below, please answer below questions in comments"
   ]
  },
  {
   "cell_type": "code",
   "execution_count": 5,
   "metadata": {},
   "outputs": [],
   "source": [
    "paragraphs = \"\"\"Sonic the Hedgehog (commonly referred to as Sonic '06) is a 2006 platform game developed by Sonic Team and published by Sega. It was produced in commemoration of the Sonic series' 15th anniversary, and intended as a reboot for the seventh-generation video game consoles. Players control Sonic, Shadow, and new character Silver, who battle Solaris, an ancient evil pursued by Doctor Eggman. Each playable character has his own campaign and abilities, and must complete levels, explore hub worlds and fight bosses to advance the story. In multiplayer modes, players can work cooperatively to collect Chaos Emeralds or race to the end of a level.\n",
    "Development began in 2004, led by Sonic co-creator Yuji Naka. Sonic Team sought to create an appealing game in the vein of superhero films like Batman Begins, hoping it would advance the series with a realistic tone and multiple gameplay styles. Problems developed after Naka resigned to form his own company, Prope, and the team split to work on the Wii game Sonic and the Secret Rings (2007). As a result, Sonic the Hedgehog was rushed so it could release in time for the holiday season. It was released for Xbox 360 in November 2006 and for PlayStation 3 the following month. Versions for Wii and Windows were canceled. Downloadable content featuring new single-player modes was released in 2007.\n",
    "Sonic the Hedgehog received praise in prerelease showings, as journalists believed it could return to the series' roots after years of mixed reviews. However, it was a critical failure. Reviewers criticized its loading times, camera system, story, voice acting, glitches, and controls. It is widely considered the worst Sonic game and led to the series' direction being rethought; subsequent games ignored its tone and most characters. In 2010, Sega delisted Sonic the Hedgehog from retailers, following its decision to remove all Sonic games with below-average Metacritic scores to increase the value of the franchise.\"\"\""
   ]
  },
  {
   "cell_type": "code",
   "execution_count": 3,
   "metadata": {},
   "outputs": [
    {
     "name": "stdout",
     "output_type": "stream",
     "text": [
      "Sonic the Hedgehog (commonly referred to as Sonic '06) is a 2006 platform game developed by Sonic Team and published by Sega. It was produced in commemoration of the Sonic series' 15th anniversary, and intended as a reboot for the seventh-generation video game consoles. Players control Sonic, Shadow, and new character Silver, who battle Solaris, an ancient evil pursued by Doctor Eggman. Each playable character has his own campaign and abilities, and must complete levels, explore hub worlds and fight bosses to advance the story. In multiplayer modes, players can work cooperatively to collect Chaos Emeralds or race to the end of a level.\n",
      "Development began in 2004, led by Sonic co-creator Yuji Naka. Sonic Team sought to create an appealing game in the vein of superhero films like Batman Begins, hoping it would advance the series with a realistic tone and multiple gameplay styles. Problems developed after Naka resigned to form his own company, Prope, and the team split to work on the Wii game Sonic and the Secret Rings (2007). As a result, Sonic the Hedgehog was rushed so it could release in time for the holiday season. It was released for Xbox 360 in November 2006 and for PlayStation 3 the following month. Versions for Wii and Windows were canceled. Downloadable content featuring new single-player modes was released in 2007.\n",
      "Sonic the Hedgehog received praise in prerelease showings, as journalists believed it could return to the series' roots after years of mixed reviews. However, it was a critical failure. Reviewers criticized its loading times, camera system, story, voice acting, glitches, and controls. It is widely considered the worst Sonic game and led to the series' direction being rethought; subsequent games ignored its tone and most characters. In 2010, Sega delisted Sonic the Hedgehog from retailers, following its decision to remove all Sonic games with below-average Metacritic scores to increase the value of the franchise.\n"
     ]
    }
   ],
   "source": [
    "print(paragraphs)"
   ]
  },
  {
   "cell_type": "code",
   "execution_count": 7,
   "metadata": {},
   "outputs": [
    {
     "name": "stdout",
     "output_type": "stream",
     "text": [
      "Sonic word is appearing 13 times in this paragraph.\n",
      "Sega word is appearing 2 times in this paragraph.\n",
      "Number of words in paragraph is :  317\n",
      "Number of characters present in this paragraph are: 1595\n",
      "Number of paragraphs are : 3\n",
      "Number of sentences are : 18\n",
      "3rd sentence in first paragraph is: Players control Sonic, Shadow, and new character Silver, who battle Solaris, an ancient evil pursued by Doctor Eggman\n"
     ]
    }
   ],
   "source": [
    "\n",
    "# How many times the word Sonic or sonic is appearing in the paragraph\n",
    "sonic = paragraphs.count(\"Sonic\")\n",
    "print(f\"Sonic word is appearing {sonic} times in this paragraph.\")\n",
    "\n",
    "# How many times Sega is appearing\n",
    "sega = paragraphs.count(\"Sega\")\n",
    "print(f\"Sega word is appearing {sega} times in this paragraph.\")\n",
    "\n",
    "# How many words are present in the paragraph (Hint use split function)\n",
    "words= paragraphs.split()\n",
    "print(\"Number of words in paragraph is : \",len(words))\n",
    "\n",
    "# How many characters are present (excluding symbols, spaces, fullstops, apostrphees etc)\n",
    "x= len(paragraphs)\n",
    "d= paragraphs.replace(\"-\",\"\").replace(\")\",\"\").replace(\"(\",\"\").replace(\"'\",\"\").replace(\" \",\"\").replace(\",\",\"\").replace(\".\",\"\").replace(\";\",\"\").replace(\"\\n\",\"\")\n",
    "print(f\"Number of characters present in this paragraph are: {len(d)}\")\n",
    "\n",
    "# How many paragraphs does it have? (Hint split by new line)\n",
    "words= paragraphs.split('\\n')\n",
    "print (\"Number of paragraphs are :\",len(words))\n",
    "\n",
    "# How many sentences does it have?\n",
    "words= paragraphs.split('.')\n",
    "print (\"Number of sentences are :\",len(words))\n",
    "\n",
    "# Print 3rd sentence in first paragraph\n",
    "print(f\"3rd sentence in first paragraph is: {words[2].strip()}\")"
   ]
  },
  {
   "cell_type": "markdown",
   "metadata": {},
   "source": [
    "### Ex 4\n",
    "\n",
    "## Exercise\n",
    "\n",
    "Below are all the writings on the wall from the book \"Who moved my cheese\" as a quick summary, these writings are numbered so that it is easy to reference, You are required to write a small command line program that asks user to enter a number and you are required to print ONLY the corresponding line.\n",
    "\n",
    "1. Having cheese makes you happy\n",
    "2. The more your cheese is important to you, the more you want to hold on to it\n",
    "3. If you do not change, you can become extinct\n",
    "4. What would you do if weren`t afraid\n",
    "5. Smell the cheese often so you know when it is getting old\n",
    "6. Movement in a new direction helps you find a new cheese\n",
    "7. When you stop being afraid, you feel good\n",
    "8. Imagining yourself enjoying your new cheese leeds you to it\n",
    "9. The quicker you let go of your cheese, the sooner you find new cheese\n",
    "10. It is safer to search in a maze than remain in a cheeseless situation\n",
    "11. Old beliefs do not lead you to new cheese\n",
    "12. When you see that you can find and enjoy new cheese, you chanse course\n",
    "13. Noticing small changes early helps you adopt to bigger changes that are to come\n",
    "14. Change happens, Anticipate change, Monitor change, Adopt to change quickly and CHANGE\n",
    "15. Move with the cheese and enjoy it!\n",
    "\n",
    "\n",
    "A demo of expected flow - \n",
    "\n",
    "At the start it should greet with below meesage and ask for a number\n",
    "```\n",
    "This program will provide you 15 writings on the wall from the book - \"Who moved my cheese\".\n",
    "\n",
    "Please enter a number to get the corresponding writing on the wall:\n",
    "```\n",
    "\n",
    "The user will enter a number, say 10, then it should provide an output as below. (Notice, it is enclosed in quotes and there are no numbers in the output)\n",
    "\n",
    "```\n",
    "Writing on the wall:\n",
    "\"It is safer to search in a maze than remain in a cheeseless situation\"\n",
    "```\n",
    "\n",
    "**Note: Please do not use advanced concepts (if/else, loops etc)**\n",
    "\n",
    "\n"
   ]
  },
  {
   "cell_type": "code",
   "execution_count": 14,
   "metadata": {},
   "outputs": [],
   "source": [
    "writings = \"\"\"1. Having cheese makes you happy\n",
    "2. The more your cheese is important to you, the more you want to hold on to it\n",
    "3. If you do not change, you can become extinct\n",
    "4. What would you do if weren`t afraid\n",
    "5. Smell the cheese often so you know when it is getting old\n",
    "6. Movement in a new direction helps you find a new cheese\n",
    "7. When you stop being afraid, you feel good\n",
    "8. Imagining yourself enjoying your new cheese leeds you to it\n",
    "9. The quicker you let go of your cheese, the sooner you find new cheese\n",
    "10. It is safer to search in a maze than remain in a cheeseless situation\n",
    "11. Old beliefs do not lead you to new cheese\n",
    "12. When you see that you can find and enjoy new cheese, you chanse course\n",
    "13. Noticing small changes early helps you adopt to bigger changes that are to come\n",
    "14. Change happens, Anticipate change, Monitor change, Adopt to change quickly and CHANGE\n",
    "15. Move with the cheese and enjoy it\"\"\""
   ]
  },
  {
   "cell_type": "code",
   "execution_count": 15,
   "metadata": {},
   "outputs": [
    {
     "name": "stdout",
     "output_type": "stream",
     "text": [
      "Please enter a number to get the corresponding writing on the wall: 4\n",
      "\"What would you do if weren`t afraid\"\n"
     ]
    }
   ],
   "source": [
    "x = int(input(\"Please enter a number to get the corresponding writing on the wall: \"))\n",
    "\n",
    "writings = writings.split(\"\\n\")\n",
    "# print(writings)\n",
    "y = writings[x-1]\n",
    "print(f'\"{y[2:].strip()}\"')"
   ]
  },
  {
   "cell_type": "markdown",
   "metadata": {},
   "source": [
    "### Ex 5\n",
    "Given the participants' score sheet for your University Sports Day, you are required to find the runner-up score. You are given  scores as a list."
   ]
  },
  {
   "cell_type": "code",
   "execution_count": 29,
   "metadata": {},
   "outputs": [],
   "source": [
    "scores = [60, 23, 56, 12, 11, 66]"
   ]
  },
  {
   "cell_type": "code",
   "execution_count": 36,
   "metadata": {},
   "outputs": [
    {
     "name": "stdout",
     "output_type": "stream",
     "text": [
      "Runner up score is : 60\n"
     ]
    }
   ],
   "source": [
    "scores.sort()# Your answer here\n",
    "print(\"Runner up score is :\",scores[-2])"
   ]
  },
  {
   "cell_type": "markdown",
   "metadata": {},
   "source": [
    "### Ex 6\n",
    "We have store names and score of students as list of lists (as shown below).\n",
    "\n",
    "```Python\n",
    "[['Harry', 37.21], ['Berry', 47.21], ['Tina', 17.2], ['Akriti', 41], ['Harsh', 39]]\n",
    "```\n",
    "\n",
    "Explanation: Harry has a score of 37.21\n",
    "\n",
    "Please find python expression for below statements\n",
    "\n",
    "1. What is the score of 3rd student"
   ]
  },
  {
   "cell_type": "code",
   "execution_count": 39,
   "metadata": {},
   "outputs": [
    {
     "name": "stdout",
     "output_type": "stream",
     "text": [
      "Score of 3rd student is : 17.2\n"
     ]
    }
   ],
   "source": [
    "# Your answer here\n",
    "lst= [['Harry', 37.21], ['Berry', 47.21], ['Tina', 17.2], ['Akriti', 41], ['Harsh', 39]]\n",
    "print(\"Score of 3rd student is :\",lst[2][-1])"
   ]
  },
  {
   "cell_type": "markdown",
   "metadata": {},
   "source": [
    "2. What is the name of last student"
   ]
  },
  {
   "cell_type": "code",
   "execution_count": 40,
   "metadata": {},
   "outputs": [
    {
     "name": "stdout",
     "output_type": "stream",
     "text": [
      "name of last student is : Harsh\n"
     ]
    }
   ],
   "source": [
    "print(\"name of last student is :\",lst[-1][-2])"
   ]
  },
  {
   "cell_type": "markdown",
   "metadata": {},
   "source": [
    "3. Please add one more entry for a student, Name: \"Peter\" , Score: 44"
   ]
  },
  {
   "cell_type": "code",
   "execution_count": 70,
   "metadata": {},
   "outputs": [
    {
     "name": "stdout",
     "output_type": "stream",
     "text": [
      "[['Harry', 37.21], ['Berry', 47.21], ['Tina', 17.2], ['Akriti', 41], ['Harsh', 39], ['Peter,39']]\n"
     ]
    }
   ],
   "source": [
    "lst= [['Harry', 37.21], ['Berry', 47.21], ['Tina', 17.2], ['Akriti', 41], ['Harsh', 39]]\n",
    "lst.insert(5,['Peter,39'])\n",
    "print (lst)"
   ]
  },
  {
   "cell_type": "markdown",
   "metadata": {},
   "source": [
    "### Ex 7\n",
    "\n",
    "\n",
    "\n"
   ]
  },
  {
   "cell_type": "code",
   "execution_count": 11,
   "metadata": {},
   "outputs": [],
   "source": [
    "words = ['india', 'and', 'china', 'have', 'been', 'engaged', 'in', 'a', 'tense', 'border', \n",
    "'standoff', 'in', 'eastern', 'ladakh', 'since', 'may', '5,', '2020,', 'when', 'there', \n",
    "'was', 'a', 'violent', 'clash', 'between', 'the', 'two', 'sides', 'in', 'the', 'pangong', \n",
    "'lake', 'area', 'last', 'month,', 'it', 'came', 'to', 'light', 'that', 'china', 'is', \n",
    "'constructing', 'a', 'second', 'bridge', 'in', 'eastern', 'ladakh', 'and', 'it', 'could', \n",
    "'help', 'its', 'military', 'quickly', 'mobilise', 'its', 'troops', 'in', 'the', 'region', \n",
    "'china', 'has', 'also', 'been', 'establishing', 'other', 'infrastructure', 'such', 'as', 'roads',\n",
    " 'and', 'residential', 'areas', 'in', 'the', 'border', 'areas', 'with', 'india', 'the', 'western', \n",
    " 'theatre', 'command', 'of', 'the', 'chinese', 'army', 'borders', 'india', 'flynn', 'said', 'when',\n",
    "  'one', 'sees', \"china's\", 'military', 'arsenal', 'in', 'all', 'domains,', 'one', 'must', 'ask', 'the',\n",
    "   'question', 'why', 'is', 'it', 'needed', '\"so,', 'i', 'do', 'not', 'have', 'a', 'crystal', 'ball', \n",
    "   'to', 'tell', 'you', 'how', 'it', 'india', 'china', 'border', 'standoff)', 'is', 'going', 'to', 'end', \n",
    "   'or', 'where', 'we', 'will', 'be', 'at', 'i', 'will', 'express', 'to', 'you', 'that', 'it', 'is',\n",
    "    'worthy', 'of', 'asking', 'this', 'question', 'and', 'try', 'to', 'get', 'their', 'response', 'as',\n",
    "     'to', 'what', 'are', 'their', 'intentions\"', 'he', 'noted', 'he', 'added', 'that', 'when', 'he', \n",
    "     'looks', 'back', 'on', 'what', 'the', 'ccp', 'and', 'the', 'prc', \"people's\", 'republic', 'of',\n",
    "      'china', 'were', 'doing', 'then', 'to', 'what', 'they', 'are', 'doing', 'today,', 'it', 'can', \n",
    "      'be', 'said', 'that', 'they', 'have', 'taken', 'an', 'incremental', 'and', 'insidious', 'path', \n",
    "      'the', 'destablising', 'and', 'corrosive', 'behaviour', 'that', 'they', 'project', 'into', 'the',\n",
    "       'indo-pacific', 'region', 'is', 'simply', 'not', 'helpful,', 'he', 'said']"
   ]
  },
  {
   "cell_type": "markdown",
   "metadata": {},
   "source": [
    "Q. How many times word \"india\" appears in the list"
   ]
  },
  {
   "cell_type": "code",
   "execution_count": 12,
   "metadata": {},
   "outputs": [
    {
     "name": "stdout",
     "output_type": "stream",
     "text": [
      "4\n"
     ]
    }
   ],
   "source": [
    "a=words.count(\"india\")\n",
    "print(a)"
   ]
  },
  {
   "cell_type": "markdown",
   "metadata": {},
   "source": [
    "Q. Can you re-construct the paragraph?"
   ]
  },
  {
   "cell_type": "code",
   "execution_count": 13,
   "metadata": {},
   "outputs": [
    {
     "name": "stdout",
     "output_type": "stream",
     "text": [
      "india and china have been engaged in a tense border standoff in eastern ladakh since may 5, 2020, when there was a violent clash between the two sides in the pangong lake area last month, it came to light that china is constructing a second bridge in eastern ladakh and it could help its military quickly mobilise its troops in the region china has also been establishing other infrastructure such as roads and residential areas in the border areas with india the western theatre command of the chinese army borders india flynn said when one sees china's military arsenal in all domains, one must ask the question why is it needed \"so, i do not have a crystal ball to tell you how it india china border standoff) is going to end or where we will be at i will express to you that it is worthy of asking this question and try to get their response as to what are their intentions\" he noted he added that when he looks back on what the ccp and the prc people's republic of china were doing then to what they are doing today, it can be said that they have taken an incremental and insidious path the destablising and corrosive behaviour that they project into the indo-pacific region is simply not helpful, he said\n"
     ]
    }
   ],
   "source": [
    "x = ' '.join(words)\n",
    "print(x)"
   ]
  },
  {
   "cell_type": "markdown",
   "metadata": {},
   "source": [
    "### Ex 8\n",
    "\n",
    "Given a list of students, please answer questions below"
   ]
  },
  {
   "cell_type": "code",
   "execution_count": 1,
   "metadata": {},
   "outputs": [],
   "source": [
    "all_students = ['Adaline Santiago', 'Adnan Mcghee', 'Jameson Greene', 'Davina Brock', 'Shelly Maldonado', \n",
    "                'Johnnie Acosta', 'Reya Everett', 'Michael Pena', 'Kamran Savage', 'Scarlet Mullins', \n",
    "                'Kendra Gilbert', 'Ephraim Romero', 'Guto Charlton', 'Sahib Nicholls', 'Aarush Tomlinson', \n",
    "                'Arman Finnegan', 'Manha Sellers', 'Shamas Bryan', \"Peter O'Sullivan\", 'Layan Berger', \n",
    "                'Kathryn Dickerson', 'Ananya Ortega', 'Shoaib Bate', 'Margaret Franco', 'Tyron Stark', \n",
    "                'Shanna Calvert', 'Deon Foley', 'Loretta Soto', 'Saara Christie', 'Markus Beasley', 'Cindy Fowler',\n",
    "                'Ada Hastings', 'Makayla Marriott', 'Kie Piper', 'Davina Brock', 'Rahima Welsh', 'Neriah Barnett', \n",
    "                'Tehya Hartley', 'Lillian Howell', 'Abu Koch', 'Elis Prentice']"
   ]
  },
  {
   "cell_type": "code",
   "execution_count": 2,
   "metadata": {},
   "outputs": [
    {
     "name": "stdout",
     "output_type": "stream",
     "text": [
      "students from Jameson Greene and Abu Koch are: Jameson Greene Davina Brock Shelly Maldonado Johnnie Acosta Reya Everett Michael Pena Kamran Savage Scarlet Mullins Kendra Gilbert Ephraim Romero Guto Charlton Sahib Nicholls Aarush Tomlinson Arman Finnegan Manha Sellers Shamas Bryan Peter O'Sullivan Layan Berger Kathryn Dickerson Ananya Ortega Shoaib Bate Margaret Franco Tyron Stark Shanna Calvert Deon Foley Loretta Soto Saara Christie Markus Beasley Cindy Fowler Ada Hastings Makayla Marriott Kie Piper Davina Brock Rahima Welsh Neriah Barnett Tehya Hartley Lillian Howell\n"
     ]
    }
   ],
   "source": [
    "# Get all students between 'Jameson Greene' and 'Abu Koch' \n",
    "# (Do not count positions, we need just python statements)\n",
    "x = ' '.join(all_students[2:-2])\n",
    "print(\"students from Jameson Greene and Abu Koch are:\", x)"
   ]
  },
  {
   "cell_type": "code",
   "execution_count": 3,
   "metadata": {},
   "outputs": [
    {
     "name": "stdout",
     "output_type": "stream",
     "text": [
      "23\n"
     ]
    }
   ],
   "source": [
    "# If index of the list is roll no, find roll no of 'Margaret Franco'\n",
    "rn = all_students.index(\"Margaret Franco\")\n",
    "print(rn)"
   ]
  },
  {
   "cell_type": "code",
   "execution_count": 4,
   "metadata": {},
   "outputs": [
    {
     "name": "stdout",
     "output_type": "stream",
     "text": [
      "['Adaline Santiago', 'Adnan Mcghee', 'Jameson Greene', 'Davina Brock', 'Shelly Maldonado', 'Johnnie Acosta', 'Reya Everett', 'Michael Pena', 'Kamran Savage', 'Scarlet Mullins', 'Kendra Gilbert', 'Ephraim Romero', 'Guto Charlton', 'Sahib Nicholls', 'Aarush Tomlinson', 'Arman Finnegan', 'Manha Sellers', 'Shamas Bryan', \"Peter O'Sullivan\", 'Layan Berger', 'Kathryn Dickerson', 'Ananya Ortega', 'Shoaib Bate', 'Margaret Franco', 'Tyron Stark', 'Shanna Calvert', 'Deon Foley', 'Loretta Soto', 'Saara Christie', 'Markus Beasley', 'Cindy Fowler', 'Ada Hastings', 'Makayla Marriott', 'Kie Piper', 'Davina Brock', 'Rahima Welsh', 'Neriah Barnett', 'Tehya Hartley', 'Abu Koch', 'Elis Prentice']\n"
     ]
    }
   ],
   "source": [
    "# 'Lillian Howell' has left the school, please remove him/her\n",
    "all_students = list(all_students)\n",
    "x = all_students.remove('Lillian Howell')\n",
    "print(all_students)"
   ]
  },
  {
   "cell_type": "code",
   "execution_count": 1,
   "metadata": {},
   "outputs": [
    {
     "name": "stdout",
     "output_type": "stream",
     "text": [
      "['Adaline Santiago', 'Adnan Mcghee', 'Jameson Greene', 'Davina Brock', 'Shelly Maldonado', 'Johnnie Acosta', 'Reya Everett', 'Michael Pena', 'Kamran Savage', 'Scarlet Mullins', 'Kendra Gilbert', 'Ephraim Romero', 'Guto Charlton', 'Sahib Nicholls', 'Aarush Tomlinson', 'Arman Finnegan', 'Manha Sellers', 'Shamas Bryan', \"Peter O'Sullivan\", 'Layan Berger', 'Kathryn Dickerson', 'Ananya Ortega', 'Shoaib Bate', 'Margaret Franco', 'Tyron Stark', 'Shanna Calvert', 'Deon Foley', 'Loretta Soto', 'Saara Christie', 'Markus Beasley', 'Cindy Fowler', 'Ada Hastings', 'Makayla Marriott', 'Kie Piper', 'Davina Brock', 'Rahima Welsh', 'Neriah Barnett', 'Tehya Hartley', 'Abu Koch', 'Elis Prentice', 'Reya Prentice']\n"
     ]
    }
   ],
   "source": [
    "# New student has joined, please add \"Reya Prentice\"\n",
    "all_students = ['Adaline Santiago', 'Adnan Mcghee', 'Jameson Greene', 'Davina Brock', 'Shelly Maldonado', 'Johnnie Acosta', 'Reya Everett', 'Michael Pena', 'Kamran Savage', 'Scarlet Mullins', 'Kendra Gilbert', 'Ephraim Romero', 'Guto Charlton', 'Sahib Nicholls', 'Aarush Tomlinson', 'Arman Finnegan', 'Manha Sellers', 'Shamas Bryan', \"Peter O'Sullivan\", 'Layan Berger', 'Kathryn Dickerson', 'Ananya Ortega', 'Shoaib Bate', 'Margaret Franco', 'Tyron Stark', 'Shanna Calvert', 'Deon Foley', 'Loretta Soto', 'Saara Christie', 'Markus Beasley', 'Cindy Fowler', 'Ada Hastings', 'Makayla Marriott', 'Kie Piper', 'Davina Brock', 'Rahima Welsh', 'Neriah Barnett', 'Tehya Hartley', 'Abu Koch', 'Elis Prentice']\n",
    "y = ['Reya Prentice']\n",
    "x = all_students + y\n",
    "print(x)"
   ]
  },
  {
   "cell_type": "code",
   "execution_count": 3,
   "metadata": {},
   "outputs": [
    {
     "name": "stdout",
     "output_type": "stream",
     "text": [
      "['Aarush Tomlinson', 'Abu Koch', 'Ada Hastings', 'Adaline Santiago', 'Adnan Mcghee', 'Ananya Ortega', 'Arman Finnegan', 'Cindy Fowler', 'Davina Brock', 'Davina Brock', 'Deon Foley', 'Elis Prentice', 'Ephraim Romero', 'Guto Charlton', 'Jameson Greene', 'Johnnie Acosta', 'Kamran Savage', 'Kathryn Dickerson', 'Kendra Gilbert', 'Kie Piper', 'Layan Berger', 'Loretta Soto', 'Makayla Marriott', 'Manha Sellers', 'Margaret Franco', 'Markus Beasley', 'Michael Pena', 'Neriah Barnett', \"Peter O'Sullivan\", 'Rahima Welsh', 'Reya Everett', 'Saara Christie', 'Sahib Nicholls', 'Scarlet Mullins', 'Shamas Bryan', 'Shanna Calvert', 'Shelly Maldonado', 'Shoaib Bate', 'Tehya Hartley', 'Tyron Stark']\n"
     ]
    }
   ],
   "source": [
    "# Sort all students in alphabetical order\n",
    "all_students = ['Adaline Santiago', 'Adnan Mcghee', 'Jameson Greene', 'Davina Brock', 'Shelly Maldonado', 'Johnnie Acosta', 'Reya Everett', 'Michael Pena', 'Kamran Savage', 'Scarlet Mullins', 'Kendra Gilbert', 'Ephraim Romero', 'Guto Charlton', 'Sahib Nicholls', 'Aarush Tomlinson', 'Arman Finnegan', 'Manha Sellers', 'Shamas Bryan', \"Peter O'Sullivan\", 'Layan Berger', 'Kathryn Dickerson', 'Ananya Ortega', 'Shoaib Bate', 'Margaret Franco', 'Tyron Stark', 'Shanna Calvert', 'Deon Foley', 'Loretta Soto', 'Saara Christie', 'Markus Beasley', 'Cindy Fowler', 'Ada Hastings', 'Makayla Marriott', 'Kie Piper', 'Davina Brock', 'Rahima Welsh', 'Neriah Barnett', 'Tehya Hartley', 'Abu Koch', 'Elis Prentice']\n",
    "all_students.sort()\n",
    "print(all_students)"
   ]
  }
 ],
 "metadata": {
  "kernelspec": {
   "display_name": "Python 3 (ipykernel)",
   "language": "python",
   "name": "python3"
  },
  "language_info": {
   "codemirror_mode": {
    "name": "ipython",
    "version": 3
   },
   "file_extension": ".py",
   "mimetype": "text/x-python",
   "name": "python",
   "nbconvert_exporter": "python",
   "pygments_lexer": "ipython3",
   "version": "3.9.12"
  }
 },
 "nbformat": 4,
 "nbformat_minor": 2
}
